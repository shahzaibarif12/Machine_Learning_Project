{
 "cells": [
  {
   "cell_type": "code",
   "execution_count": 11,
   "metadata": {},
   "outputs": [
    {
     "name": "stdout",
     "output_type": "stream",
     "text": [
      "(7049, 30)\n",
      "left_eye_center_x            float64\n",
      "left_eye_center_y            float64\n",
      "right_eye_center_x           float64\n",
      "right_eye_center_y           float64\n",
      "left_eye_inner_corner_x      float64\n",
      "left_eye_inner_corner_y      float64\n",
      "left_eye_outer_corner_x      float64\n",
      "left_eye_outer_corner_y      float64\n",
      "right_eye_inner_corner_x     float64\n",
      "right_eye_inner_corner_y     float64\n",
      "right_eye_outer_corner_x     float64\n",
      "right_eye_outer_corner_y     float64\n",
      "left_eyebrow_inner_end_x     float64\n",
      "left_eyebrow_inner_end_y     float64\n",
      "left_eyebrow_outer_end_x     float64\n",
      "left_eyebrow_outer_end_y     float64\n",
      "right_eyebrow_inner_end_x    float64\n",
      "right_eyebrow_inner_end_y    float64\n",
      "right_eyebrow_outer_end_x    float64\n",
      "right_eyebrow_outer_end_y    float64\n",
      "nose_tip_x                   float64\n",
      "nose_tip_y                   float64\n",
      "mouth_left_corner_x          float64\n",
      "mouth_left_corner_y          float64\n",
      "mouth_right_corner_x         float64\n",
      "mouth_right_corner_y         float64\n",
      "mouth_center_top_lip_x       float64\n",
      "mouth_center_top_lip_y       float64\n",
      "mouth_center_bottom_lip_x    float64\n",
      "mouth_center_bottom_lip_y    float64\n",
      "dtype: object\n",
      "      left_eye_center_x  left_eye_center_y  right_eye_center_x  right_eye_center_y  left_eye_inner_corner_x  left_eye_inner_corner_y  left_eye_outer_corner_x  left_eye_outer_corner_y  right_eye_inner_corner_x  right_eye_inner_corner_y  ...  nose_tip_x  nose_tip_y  mouth_left_corner_x  mouth_left_corner_y  mouth_right_corner_x  mouth_right_corner_y  mouth_center_top_lip_x  mouth_center_top_lip_y  mouth_center_bottom_lip_x  mouth_center_bottom_lip_y\n",
      "0             66.033564          39.002274           30.227008           36.421678                59.582075                39.647423                73.130346                39.969997                 36.356571                 37.389402  ...   44.420571   57.066803            61.195308            79.970165             28.614496             77.388992               43.312602               72.935459                  43.130707                  84.485774\n",
      "1             64.332936          34.970077           29.949277           33.448715                58.856170                35.274349                70.722723                36.187166                 36.034723                 34.361532  ...   48.206298   55.660936            56.421447            76.352000             35.122383             76.047660               46.684596               70.266553                  45.467915                  85.480170\n",
      "2             65.057053          34.909642           30.903789           34.909642                59.412000                36.320968                70.984421                36.320968                 37.678105                 36.320968  ...   47.557263   53.538947            60.822947            73.014316             33.726316             72.732000               47.274947               70.191789                  47.274947                  78.659368\n",
      "3             65.225739          37.261774           32.023096           37.261774                60.003339                39.127179                72.314713                38.380967                 37.618643                 38.754115  ...   51.885078   54.166539            65.598887            72.703722             37.245496             74.195478               50.303165               70.091687                  51.561183                  78.268383\n",
      "4             66.725301          39.621261           32.244810           38.042032                58.565890                39.621261                72.515926                39.884466                 36.982380                 39.094852  ...   43.299534   64.889521            60.671411            77.523239             31.191755             76.997301               44.962748               73.707387                  44.227141                  86.871166\n",
      "5             69.680748          39.968748           29.183551           37.563364                62.864299                40.169271                76.898243                41.171888                 36.401047                 39.367626  ...   52.468486   58.800000            64.869084            82.471178             31.990430             81.669084               49.308112               78.487626                  49.432374                  93.898766\n",
      "6             64.131866          34.290040           29.578953           33.138040                57.797154                35.154040                69.026577                34.290040                 34.761664                 33.714040  ...   46.855087   53.006174            55.781799            70.570953             33.898309             70.282953               45.127732               65.099597                  45.415732                  78.057020\n",
      "7             67.468893          39.413452           29.355961           39.621717                59.554951                40.454773                75.591612                40.038245                 37.478214                 40.454773  ...   47.891883   56.907961            66.843961            80.025786             30.189204             81.275184               48.100194               71.278602                  48.516816                  91.063922\n",
      "8             65.802880          34.755200           27.475840           36.185600                58.652160                37.329280                72.952960                35.899520                 36.342400                 37.043200  ...   48.069760   55.348480            65.516800            73.368320             31.194240             74.798080               49.213440               67.648000                  49.499520                  83.093120\n",
      "9             64.121231          36.740308           29.468923           38.390154                58.620923                37.840615                71.272000                37.290338                 36.344615                 39.490462  ...   48.995077   54.341538            65.771692            69.192615             32.769231             72.217846               49.270154               67.542769                  49.545231                  76.893538\n",
      "10            65.230189          34.342642           28.802717           33.937811                58.753811                35.557132                70.086340                35.557132                 34.469434                 35.152302  ...   47.421283   51.746717            57.134491            71.579774             34.064604             70.770113               46.469434               65.260075                  46.206792                  81.697811\n",
      "11            66.737600          39.886400           30.270400           38.814400                61.017600                39.886400                73.173600                41.316800                 36.348000                 39.886400  ...   48.504000   56.690400            61.732800            82.432000             33.488000             81.360000               48.504000               72.779200                  47.788800                  94.588000\n",
      "12            66.574737          37.308000           30.445263           37.308000                59.036211                38.276842                73.913053                38.436632                 38.053895                 38.351368  ...   50.108211   54.545053            64.033895            74.283789             35.244000             74.847789               49.074316               68.355789                  49.638947                  83.880000\n",
      "13            65.270588          34.940235           33.022745           32.976941                60.503216                34.940235                70.037333                36.341961                 36.948706                 34.098824  ...   47.884549   52.886588            57.138196            68.589176             34.985412             67.187451               46.482824               63.541961                  46.202353                  74.197961\n",
      "14            66.607158          38.938105           28.596211           36.303158                61.714526                38.938105                73.004632                40.442947                 34.618105                 37.432421  ...   47.036632   54.368000            61.338105            76.195368             31.230316             74.314105               45.531789               70.550737                  44.778947                  84.474947\n",
      "15            68.491294          35.900235           27.831216           37.022118                62.322196                36.180706                74.379922                37.302588                 34.841725                 37.022118  ...   50.264471   56.651294            64.004392            79.364392             36.523922             77.962667               49.703529               71.232627                  49.423059                  85.813961\n",
      "16            66.676941          33.941224           30.713647           36.149506                60.367059                35.203129                71.724000                33.310306                 36.707294                 36.464965  ...   49.326353   60.440471            64.468235            72.427765             35.761412             73.058824               50.272235               71.796706                  50.587765                  82.522588\n",
      "17            66.850428          35.636988           32.528110           36.524623                61.228800                36.524623                71.584883                35.341109                 38.149738                 37.412326  ...   49.688938   58.124359            65.370703            71.439228             35.782841             71.734510               50.280828               70.255448                  49.688938                  80.611531\n",
      "18            67.839508          38.597908           28.016738           36.397735                60.139323                39.697969                76.860554                40.358006                 38.357662                 38.377895  ...   48.038400   54.879015            66.519631            78.860800             27.796677             77.540923               47.158154               70.500431                  46.277908                  88.981662\n",
      "19            69.233455          40.021527           25.550836           38.071855                60.262691                40.021527                76.254545                40.411636                 33.351273                 38.461964  ...   45.832145   60.302836            62.213236            81.364364             29.451055             81.364364               46.612364               76.684800                  45.832145                  93.456000\n",
      "20            65.595600          36.626400           31.540800           39.307800                59.147400                37.906800                72.835200                36.894600                 37.976400                 39.844200  ...   51.115800   55.396200            66.131400            70.680600             36.903600             73.362000               50.847600               67.999200                  51.383400                  82.747200\n",
      "21            64.762466          34.933389           31.859729           37.191483                59.924211                35.901113                70.569383                35.255964                 37.988571                 37.514057  ...   49.924331   54.288217            63.472602            72.997534             40.246376             74.288120               50.246977               69.449143                  52.182135                  83.320060\n",
      "22            66.082737          37.153705           27.978316           37.435958                59.873053                38.282779                72.574737                38.847284                 34.470316                 38.282779  ...   47.736000   52.960421            62.977895            77.798526             35.881263             78.363158               48.018316               70.177895                  48.865263                  84.572842\n",
      "23            64.718582          35.861225           31.590684           39.119392                59.287899                37.761965                71.235646                36.132759                 37.564557                 39.119392  ...   51.141266   54.325671            66.075949            68.988759             36.478177             71.704101               51.412861               66.545013                  51.684456                  76.049013\n",
      "24            66.334316          33.721263           29.077053           34.097684                59.936842                34.849684                71.603368                34.474105                 35.850947                 34.849684  ...   49.750737   52.885053            61.442526            73.613474             39.237895             72.860632               50.151579               67.591579                  49.776000                  83.022316\n",
      "25            64.553043          36.524174           32.219826           38.078609                58.400696                37.538713                69.526957                36.524174                 36.883478                 38.700452  ...   49.008000   57.664835            61.754435            74.452870             35.328696             75.696696               48.697043               72.276870                  49.073391                  80.934261\n",
      "26            65.318400          35.270400           30.309581           38.702592                60.170496                36.299520                71.153664                33.553920                 35.457946                 38.702592  ...   50.216448   63.757824            66.691584            73.368576             37.174042             77.829888               50.559744               70.965504                  51.932928                  81.948672\n",
      "27            65.459410          38.908564           32.051410           39.260223                59.832393                39.611882                71.085639                39.611882                 37.325902                 39.611882  ...   47.172984   59.305180            60.887607            79.702033             32.051410             79.350295               46.821246               71.613639                  47.172984                  93.064918\n",
      "28            65.376914          38.128914           29.215543           39.558857                58.430629                39.354514                72.118857                38.741486                 35.957486                 39.967543  ...   46.172343   55.903086            63.537829            78.784457             33.301486             80.010514               47.194057               70.816914                  48.215314                  90.021029\n",
      "29            72.353185          34.417067           28.655407           32.828030                63.878519                34.946726                78.973630                36.006044                 35.540741                 33.357689  ...   44.016000   53.220267            66.526815            78.644148             30.509037             77.320296               45.869630               74.936889                  46.399407                  88.708148\n",
      "...                 ...                ...                 ...                 ...                      ...                      ...                      ...                      ...                       ...                       ...  ...         ...         ...                  ...                  ...                   ...                   ...                     ...                     ...                        ...                        ...\n",
      "7019          65.608426          37.621361           31.264294           38.459027                59.255347                36.065143                73.942694                34.624653                 37.478531                 39.398041  ...   52.205857   63.588903            72.600433            71.862041             34.232759             77.339429               51.599453               75.963592                  51.786980                  76.153806\n",
      "7020          61.997236          37.275785           31.425382           37.912702                59.255347                36.065143                73.942694                34.624653                 37.478531                 39.398041  ...   43.845164   65.618509            72.600433            71.862041             34.232759             77.339429               51.599453               75.963592                  46.392873                  77.719855\n",
      "7021          64.906070          41.810233           30.580251           36.566028                59.255347                36.065143                73.942694                34.624653                 37.478531                 39.398041  ...   42.975693   67.554593            72.600433            71.862041             34.232759             77.339429               51.599453               75.963592                  40.115207                  80.903530\n",
      "7022          67.045141          41.737408           29.858731           38.177003                59.255347                36.065143                73.942694                34.624653                 37.478531                 39.398041  ...   50.034347   67.847019            72.600433            71.862041             34.232759             77.339429               51.599453               75.963592                  48.847531                  84.462208\n",
      "7023          60.202057          37.743474           38.649143           37.444137                59.255347                36.065143                73.942694                34.624653                 37.478531                 39.398041  ...   51.221714   61.391726            72.600433            71.862041             34.232759             77.339429               51.599453               75.963592                  50.323657                  71.270103\n",
      "7024          72.226237          40.046442           33.046199           37.869791                59.255347                36.065143                73.942694                34.624653                 37.478531                 39.398041  ...   56.626747   64.715384            72.600433            71.862041             34.232759             77.339429               51.599453               75.963592                  56.263986                  77.049855\n",
      "7025          67.724141          38.875991           29.399228           37.929694                59.255347                36.065143                73.942694                34.624653                 37.478531                 39.398041  ...   41.701064   69.157402            72.600433            71.862041             34.232759             77.339429               51.599453               75.963592                  42.174212                  86.190701\n",
      "7026          63.013300          36.053600           28.746900           38.049700                59.255347                36.065143                73.942694                34.624653                 37.478531                 39.398041  ...   47.377200   61.670200            72.600433            71.862041             34.232759             77.339429               51.599453               75.963592                  47.044500                  71.983400\n",
      "7027          67.277867          37.383176           29.176630           40.696339                59.255347                36.065143                73.942694                34.624653                 37.478531                 39.398041  ...   52.368679   62.784000            72.600433            71.862041             34.232759             77.339429               51.599453               75.963592                  51.540461                  74.103952\n",
      "7028          65.840046          39.123796           29.494006           42.324089                59.255347                36.065143                73.942694                34.624653                 37.478531                 39.398041  ...   48.924268   66.554764            72.600433            71.862041             34.232759             77.339429               51.599453               75.963592                  49.610049                  76.155590\n",
      "7029          69.463223          41.038651           33.892709           41.806354                59.255347                36.065143                73.942694                34.624653                 37.478531                 39.398041  ...   41.825703   65.861257            72.600433            71.862041             34.232759             77.339429               51.599453               75.963592                  41.569806                  78.400457\n",
      "7030          64.392940          38.225240           29.210039           38.651698                59.255347                36.065143                73.942694                34.624653                 37.478531                 39.398041  ...   45.415522   66.797988            72.600433            71.862041             34.232759             77.339429               51.599453               75.963592                  47.974268                  81.510928\n",
      "7031          67.367709          38.048844           28.682327           37.814385                59.255347                36.065143                73.942694                34.624653                 37.478531                 39.398041  ...   48.845527   66.886982            72.600433            71.862041             34.232759             77.339429               51.599453               75.963592                  48.845527                  79.782109\n",
      "7032          68.320900          36.832620           29.197740           37.566170                59.255347                36.065143                73.942694                34.624653                 37.478531                 39.398041  ...   48.025750   64.952400            72.600433            71.862041             34.232759             77.339429               51.599453               75.963592                  48.514790                  75.466700\n",
      "7033          66.162021          35.930851           33.100496           34.992931                59.255347                36.065143                73.942694                34.624653                 37.478531                 39.398041  ...   43.652046   65.944111            72.600433            71.862041             34.232759             77.339429               51.599453               75.963592                  44.355488                  76.730139\n",
      "7034          66.651927          37.332655           29.296625           37.834080                59.255347                36.065143                73.942694                34.624653                 37.478531                 39.398041  ...   44.840422   66.414545            72.600433            71.862041             34.232759             77.339429               51.599453               75.963592                  47.347491                  80.955636\n",
      "7035          70.504914          35.783406           32.182297           39.082709                59.255347                36.065143                73.942694                34.624653                 37.478531                 39.398041  ...   51.216731   65.984686            72.600433            71.862041             34.232759             77.339429               51.599453               75.963592                  53.754651                  79.181943\n",
      "7036          71.258174          39.744607           33.465219           36.687826                59.255347                36.065143                73.942694                34.624653                 37.478531                 39.398041  ...   49.304908   63.365209            72.600433            71.862041             34.232759             77.339429               51.599453               75.963592                  47.915464                  77.537562\n",
      "7037          69.616217          38.049497           29.493977           42.596674                59.255347                36.065143                73.942694                34.624653                 37.478531                 39.398041  ...   51.962434   70.414766            72.600433            71.862041             34.232759             77.339429               51.599453               75.963592                  53.834811                  81.916474\n",
      "7038          64.615524          35.165319           26.707200           39.827892                59.255347                36.065143                73.942694                34.624653                 37.478531                 39.398041  ...   42.924627   64.964930            72.600433            71.862041             34.232759             77.339429               51.599453               75.963592                  45.154508                  76.317146\n",
      "7039          69.229935          38.575634           29.407912           38.345450                59.255347                36.065143                73.942694                34.624653                 37.478531                 39.398041  ...   49.433961   70.801533            72.600433            71.862041             34.232759             77.339429               51.599453               75.963592                  50.124542                  80.239123\n",
      "7040          63.352951          35.671311           33.952078           40.816448                59.255347                36.065143                73.942694                34.624653                 37.478531                 39.398041  ...   48.162462   59.681992            72.600433            71.862041             34.232759             77.339429               51.599453               75.963592                  50.367575                  70.952324\n",
      "7041          65.711151          38.843545           32.268751           37.706043                59.255347                36.065143                73.942694                34.624653                 37.478531                 39.398041  ...   46.373711   64.095963            72.600433            71.862041             34.232759             77.339429               51.599453               75.963592                  49.786191                  78.200923\n",
      "7042          67.929319          35.846552           28.687820           41.452484                59.255347                36.065143                73.942694                34.624653                 37.478531                 39.398041  ...   50.844585   69.749069            72.600433            71.862041             34.232759             77.339429               51.599453               75.963592                  52.446275                  81.227824\n",
      "7043          66.867222          37.356855           30.750926           40.115743                59.255347                36.065143                73.942694                34.624653                 37.478531                 39.398041  ...   43.542112   64.945694            72.600433            71.862041             34.232759             77.339429               51.599453               75.963592                  47.555045                  79.492551\n",
      "7044          67.402546          31.842551           29.746749           38.632942                59.255347                36.065143                73.942694                34.624653                 37.478531                 39.398041  ...   48.265961   67.029093            72.600433            71.862041             34.232759             77.339429               51.599453               75.963592                  50.426637                  79.683921\n",
      "7045          66.134400          38.365501           30.478626           39.950198                59.255347                36.065143                73.942694                34.624653                 37.478531                 39.398041  ...   47.910346   66.626011            72.600433            71.862041             34.232759             77.339429               51.599453               75.963592                  50.287397                  77.983023\n",
      "7046          66.690732          36.845221           31.666420           39.685042                59.255347                36.065143                73.942694                34.624653                 37.478531                 39.398041  ...   49.462572   67.515161            72.600433            71.862041             34.232759             77.339429               51.599453               75.963592                  49.462572                  78.117120\n",
      "7047          70.965082          39.853666           30.543285           40.772339                59.255347                36.065143                73.942694                34.624653                 37.478531                 39.398041  ...   50.754202   66.724988            72.600433            71.862041             34.232759             77.339429               51.599453               75.963592                  50.065186                  79.586447\n",
      "7048          66.938311          43.424510           31.096059           39.528604                59.255347                36.065143                73.942694                34.624653                 37.478531                 39.398041  ...   47.069250   73.033339            72.600433            71.862041             34.232759             77.339429               51.599453               75.963592                  45.900480                  82.773096\n",
      "\n",
      "[7049 rows x 30 columns]\n"
     ]
    }
   ],
   "source": [
    "#load csv using pandas\n",
    "#from pandas import read_csv\n",
    "import pandas as pd\n",
    "filename = 'facial_keypoints.csv'\n",
    "#names=['Pregnancies','Glucose','BloodPressure','SkinThickness','Insulin','BMI','DiabetesPedigreeFunction','Age','Outcome']\n",
    "data =pd.read_csv(filename)\n",
    "#data.set_index('day',inplace=True)\n",
    "new=data.interpolate()\n",
    "print(new.shape)\n",
    "print(new.dtypes)\n",
    "peek=(new.head(20))\n",
    "print(new)\n",
    "\n",
    "\n"
   ]
  },
  {
   "cell_type": "code",
   "execution_count": 12,
   "metadata": {},
   "outputs": [],
   "source": [
    "array = new.values\n",
    "X = array[:,0:8]\n",
    "Y = array[:,8].astype(int)\n",
    "#pd.set_option('display.expand_frame_repr', False)"
   ]
  },
  {
   "cell_type": "code",
   "execution_count": 13,
   "metadata": {},
   "outputs": [],
   "source": [
    "# Compare Algorithms\n",
    "from pandas import read_csv\n",
    "from matplotlib import pyplot\n",
    "from sklearn.model_selection import KFold\n",
    "from sklearn.model_selection import cross_val_score\n",
    "from sklearn.linear_model import LogisticRegression\n",
    "from sklearn.tree import DecisionTreeClassifier\n",
    "from sklearn.neighbors import KNeighborsClassifier\n",
    "from sklearn.discriminant_analysis import LinearDiscriminantAnalysis\n",
    "from sklearn.naive_bayes import GaussianNB\n",
    "from sklearn.svm import SVC\n",
    "# import warnings filter\n",
    "from warnings import simplefilter\n",
    "# ignore all future warnings\n",
    "simplefilter(action='ignore', category=FutureWarning)\n"
   ]
  },
  {
   "cell_type": "code",
   "execution_count": 14,
   "metadata": {},
   "outputs": [],
   "source": [
    "# prepare models\n",
    "models = []\n",
    "models.append(('LR', LogisticRegression()))\n",
    "models.append(('LDA', LinearDiscriminantAnalysis()))\n",
    "models.append(('KNN', KNeighborsClassifier()))\n",
    "models.append(('CART', DecisionTreeClassifier()))\n",
    "models.append(('NB', GaussianNB()))\n",
    "models.append(('SVM', SVC()))"
   ]
  },
  {
   "cell_type": "code",
   "execution_count": 15,
   "metadata": {},
   "outputs": [
    {
     "name": "stdout",
     "output_type": "stream",
     "text": [
      "Accuracy LR: 0.741133 (0.342173)\n",
      "Accuracy LDA: 0.739857 (0.351064)\n",
      "Accuracy KNN: 0.775603 (0.308911)\n",
      "Accuracy CART: 0.776028 (0.307589)\n",
      "Accuracy NB: 0.748227 (0.345635)\n",
      "Accuracy SVM: 0.786809 (0.292191)\n"
     ]
    }
   ],
   "source": [
    "# evaluate each model in turn\n",
    "results = []\n",
    "names = []\n",
    "scoring = 'accuracy'\n",
    "for name, model in models:\n",
    "    kfold = KFold(n_splits=10, random_state=7)\n",
    "    cv_results = cross_val_score(model, X, Y, cv=kfold, scoring=scoring)\n",
    "    results.append(cv_results)\n",
    "    names.append(name)\n",
    "    msg = \"Accuracy %s: %f (%f)\" % (name, cv_results.mean(), cv_results.std())\n",
    "    print(msg)"
   ]
  },
  {
   "cell_type": "code",
   "execution_count": 17,
   "metadata": {},
   "outputs": [
    {
     "data": {
      "image/png": "[encoded data removed]",
      "text/plain": [
       "<Figure size 432x288 with 1 Axes>"
      ]
     },
     "metadata": {
      "needs_background": "light"
     },
     "output_type": "display_data"
    }
   ],
   "source": [
    "# boxplot algorithm comparison\n",
    "fig = pyplot.figure()\n",
    "fig.suptitle('Algorithm Comparison')\n",
    "ax = fig.add_subplot(111)\n",
    "pyplot.boxplot(results)\n",
    "ax.set_xticklabels(names)\n",
    "pyplot.show()"
   ]
  },
  {
   "cell_type": "code",
   "execution_count": null,
   "metadata": {},
   "outputs": [],
   "source": []
  }
 ],
 "metadata": {
  "kernelspec": {
   "display_name": "Python 3",
   "language": "python",
   "name": "python3"
  },
  "language_info": {
   "codemirror_mode": {
    "name": "ipython",
    "version": 3
   },
   "file_extension": ".py",
   "mimetype": "text/x-python",
   "name": "python",
   "nbconvert_exporter": "python",
   "pygments_lexer": "ipython3",
   "version": "3.7.3"
  }
 },
 "nbformat": 4,
 "nbformat_minor": 2
}
